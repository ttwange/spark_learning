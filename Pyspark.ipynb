{
  "nbformat": 4,
  "nbformat_minor": 0,
  "metadata": {
    "colab": {
      "provenance": [],
      "authorship_tag": "ABX9TyO/prdjuOkaCpekm5BRZEYa",
      "include_colab_link": true
    },
    "kernelspec": {
      "name": "python3",
      "display_name": "Python 3"
    },
    "language_info": {
      "name": "python"
    }
  },
  "cells": [
    {
      "cell_type": "markdown",
      "metadata": {
        "id": "view-in-github",
        "colab_type": "text"
      },
      "source": [
        "<a href=\"https://colab.research.google.com/github/ttwange/spark_learning/blob/main/Pyspark.ipynb\" target=\"_parent\"><img src=\"https://colab.research.google.com/assets/colab-badge.svg\" alt=\"Open In Colab\"/></a>"
      ]
    },
    {
      "cell_type": "code",
      "execution_count": 1,
      "metadata": {
        "colab": {
          "base_uri": "https://localhost:8080/"
        },
        "id": "i79vO9DK5APj",
        "outputId": "d2b88858-ae0c-4e55-bbb2-26c9a00124fa"
      },
      "outputs": [
        {
          "output_type": "stream",
          "name": "stdout",
          "text": [
            "Collecting pyspark\n",
            "  Downloading pyspark-3.4.1.tar.gz (310.8 MB)\n",
            "\u001b[2K     \u001b[90m━━━━━━━━━━━━━━━━━━━━━━━━━━━━━━━━━━━━━━━\u001b[0m \u001b[32m310.8/310.8 MB\u001b[0m \u001b[31m4.2 MB/s\u001b[0m eta \u001b[36m0:00:00\u001b[0m\n",
            "\u001b[?25h  Preparing metadata (setup.py) ... \u001b[?25l\u001b[?25hdone\n",
            "Requirement already satisfied: py4j==0.10.9.7 in /usr/local/lib/python3.10/dist-packages (from pyspark) (0.10.9.7)\n",
            "Building wheels for collected packages: pyspark\n",
            "  Building wheel for pyspark (setup.py) ... \u001b[?25l\u001b[?25hdone\n",
            "  Created wheel for pyspark: filename=pyspark-3.4.1-py2.py3-none-any.whl size=311285387 sha256=776d082b4dee157a5da2fd8dd8bfdfea836e5d632b2a83f190833dc90b9cd616\n",
            "  Stored in directory: /root/.cache/pip/wheels/0d/77/a3/ff2f74cc9ab41f8f594dabf0579c2a7c6de920d584206e0834\n",
            "Successfully built pyspark\n",
            "Installing collected packages: pyspark\n",
            "Successfully installed pyspark-3.4.1\n"
          ]
        }
      ],
      "source": [
        "pip install pyspark"
      ]
    },
    {
      "cell_type": "code",
      "source": [
        "import pandas as pd\n",
        "from pyspark.sql import SparkSession"
      ],
      "metadata": {
        "id": "cKfLSeAC5PIw"
      },
      "execution_count": 2,
      "outputs": []
    },
    {
      "cell_type": "code",
      "source": [
        "spark = SparkSession.builder\\\n",
        ".appName(\"MyProcess\")\\\n",
        ".master(\"local[*]\")\\\n",
        ".getOrCreate()"
      ],
      "metadata": {
        "id": "Rh_1p6gV5dCr"
      },
      "execution_count": 3,
      "outputs": []
    },
    {
      "cell_type": "code",
      "source": [
        "spark"
      ],
      "metadata": {
        "colab": {
          "base_uri": "https://localhost:8080/",
          "height": 219
        },
        "id": "Jc7mZNBR5v-p",
        "outputId": "881adfc9-570a-41c2-868d-ffa24c4fc9d8"
      },
      "execution_count": 4,
      "outputs": [
        {
          "output_type": "execute_result",
          "data": {
            "text/plain": [
              "<pyspark.sql.session.SparkSession at 0x7f863622ed10>"
            ],
            "text/html": [
              "\n",
              "            <div>\n",
              "                <p><b>SparkSession - in-memory</b></p>\n",
              "                \n",
              "        <div>\n",
              "            <p><b>SparkContext</b></p>\n",
              "\n",
              "            <p><a href=\"http://66b9967b3cac:4040\">Spark UI</a></p>\n",
              "\n",
              "            <dl>\n",
              "              <dt>Version</dt>\n",
              "                <dd><code>v3.4.1</code></dd>\n",
              "              <dt>Master</dt>\n",
              "                <dd><code>local[*]</code></dd>\n",
              "              <dt>AppName</dt>\n",
              "                <dd><code>MyProcess</code></dd>\n",
              "            </dl>\n",
              "        </div>\n",
              "        \n",
              "            </div>\n",
              "        "
            ]
          },
          "metadata": {},
          "execution_count": 4
        }
      ]
    },
    {
      "cell_type": "code",
      "source": [
        "header = [\"city\",\"type\",\"price\"]\n",
        "\n",
        "data = map(lambda r: (r[0], r[1], float(r[2])),\n",
        "           map(lambda x: x.split(\",\"),\n",
        "               [\"Paris, Food, 19.00\",\"Hola, Clothes, 12.00\",\"Paris, Food, 19.00\", \"Rongai, Chapo, 20.50\",\"Paris, Food, 19.00\", \"Riruta, House, 99.50\",\"Mary, Book, 5.00\",\"Rongai, Chapo, 20.50\",]))\n",
        "df = spark.createDataFrame(data, header)\n",
        "df.show()\n"
      ],
      "metadata": {
        "colab": {
          "base_uri": "https://localhost:8080/"
        },
        "id": "Y5Zm_3HM58pf",
        "outputId": "3975aceb-9899-4a67-cc0c-25f063d25569"
      },
      "execution_count": 6,
      "outputs": [
        {
          "output_type": "stream",
          "name": "stdout",
          "text": [
            "+------+--------+-----+\n",
            "|  city|    type|price|\n",
            "+------+--------+-----+\n",
            "| Paris|    Food| 19.0|\n",
            "|  Hola| Clothes| 12.0|\n",
            "| Paris|    Food| 19.0|\n",
            "|Rongai|   Chapo| 20.5|\n",
            "| Paris|    Food| 19.0|\n",
            "|Riruta|   House| 99.5|\n",
            "|  Mary|    Book|  5.0|\n",
            "|Rongai|   Chapo| 20.5|\n",
            "+------+--------+-----+\n",
            "\n"
          ]
        }
      ]
    },
    {
      "cell_type": "code",
      "source": [
        "df.take(2)"
      ],
      "metadata": {
        "colab": {
          "base_uri": "https://localhost:8080/"
        },
        "id": "fPIZQ0Ii8XDi",
        "outputId": "03fe636c-a520-4d24-da02-200145038cbf"
      },
      "execution_count": 7,
      "outputs": [
        {
          "output_type": "execute_result",
          "data": {
            "text/plain": [
              "[Row(city='Paris', type=' Food', price=19.0),\n",
              " Row(city='Hola', type=' Clothes', price=12.0)]"
            ]
          },
          "metadata": {},
          "execution_count": 7
        }
      ]
    },
    {
      "cell_type": "code",
      "source": [
        "df.printSchema()"
      ],
      "metadata": {
        "colab": {
          "base_uri": "https://localhost:8080/"
        },
        "id": "Oz3dWmBc7fk-",
        "outputId": "f33ab9c3-84b3-4da9-d5dc-0fade1479415"
      },
      "execution_count": 8,
      "outputs": [
        {
          "output_type": "stream",
          "name": "stdout",
          "text": [
            "root\n",
            " |-- city: string (nullable = true)\n",
            " |-- type: string (nullable = true)\n",
            " |-- price: double (nullable = true)\n",
            "\n"
          ]
        }
      ]
    },
    {
      "cell_type": "code",
      "source": [
        "df"
      ],
      "metadata": {
        "colab": {
          "base_uri": "https://localhost:8080/"
        },
        "id": "Qp7HO9xS8jz-",
        "outputId": "58a386b3-c379-45f5-fa7b-4a8e1e905e17"
      },
      "execution_count": 9,
      "outputs": [
        {
          "output_type": "execute_result",
          "data": {
            "text/plain": [
              "DataFrame[city: string, type: string, price: double]"
            ]
          },
          "metadata": {},
          "execution_count": 9
        }
      ]
    },
    {
      "cell_type": "code",
      "source": [
        "df.dtypes"
      ],
      "metadata": {
        "colab": {
          "base_uri": "https://localhost:8080/"
        },
        "id": "dVyEyYQf8n98",
        "outputId": "c095be28-cf0a-4fec-c5b9-84984d7def18"
      },
      "execution_count": 11,
      "outputs": [
        {
          "output_type": "execute_result",
          "data": {
            "text/plain": [
              "[('city', 'string'), ('type', 'string'), ('price', 'double')]"
            ]
          },
          "metadata": {},
          "execution_count": 11
        }
      ]
    },
    {
      "cell_type": "code",
      "source": [
        "df.explain()"
      ],
      "metadata": {
        "colab": {
          "base_uri": "https://localhost:8080/"
        },
        "id": "7T5cd5ED8pez",
        "outputId": "d0483a26-bd87-4c34-9577-56cecf086b85"
      },
      "execution_count": 12,
      "outputs": [
        {
          "output_type": "stream",
          "name": "stdout",
          "text": [
            "== Physical Plan ==\n",
            "*(1) Scan ExistingRDD[city#19,type#20,price#21]\n",
            "\n",
            "\n"
          ]
        }
      ]
    },
    {
      "cell_type": "code",
      "source": [
        "df.select(\"city\").show()"
      ],
      "metadata": {
        "colab": {
          "base_uri": "https://localhost:8080/"
        },
        "id": "BT0AHd1F9SMK",
        "outputId": "561be2f1-2b50-4b5e-9c5a-0bfc4b9ff090"
      },
      "execution_count": 13,
      "outputs": [
        {
          "output_type": "stream",
          "name": "stdout",
          "text": [
            "+------+\n",
            "|  city|\n",
            "+------+\n",
            "| Paris|\n",
            "|  Hola|\n",
            "| Paris|\n",
            "|Rongai|\n",
            "| Paris|\n",
            "|Riruta|\n",
            "|  Mary|\n",
            "|Rongai|\n",
            "+------+\n",
            "\n"
          ]
        }
      ]
    },
    {
      "cell_type": "code",
      "source": [
        "df.select([\"city\", \"type\"]).show()"
      ],
      "metadata": {
        "colab": {
          "base_uri": "https://localhost:8080/"
        },
        "id": "mpFdX7Gg9eZ_",
        "outputId": "cd5a6dd7-9129-4773-bf34-b31196806ed2"
      },
      "execution_count": 14,
      "outputs": [
        {
          "output_type": "stream",
          "name": "stdout",
          "text": [
            "+------+--------+\n",
            "|  city|    type|\n",
            "+------+--------+\n",
            "| Paris|    Food|\n",
            "|  Hola| Clothes|\n",
            "| Paris|    Food|\n",
            "|Rongai|   Chapo|\n",
            "| Paris|    Food|\n",
            "|Riruta|   House|\n",
            "|  Mary|    Book|\n",
            "|Rongai|   Chapo|\n",
            "+------+--------+\n",
            "\n"
          ]
        }
      ]
    },
    {
      "cell_type": "markdown",
      "source": [
        "Step 3:Basic manipulation : Schema\n"
      ],
      "metadata": {
        "id": "3SILx2VT-FyY"
      }
    },
    {
      "cell_type": "code",
      "source": [
        "from pyspark.sql.types import StringType, FloatType, StructType, StructField"
      ],
      "metadata": {
        "id": "uxBhjHNw9jOa"
      },
      "execution_count": 15,
      "outputs": []
    },
    {
      "cell_type": "code",
      "source": [
        "data = map(lambda r: (r[0], r[1], float(r[2])),\n",
        "           map(lambda x: x.split(\",\"),\n",
        "               [\"Paris, Food, 19.00\",\"Hola, Clothes, 12.00\",\"Paris, Snack, 19.00\", \"Rongai, Chapo, 20.50\",\"Paris, Food, 19.00\", \"Riruta, House, 99.50\",\"Mary, Book, 5.00\",\"Rongai, Chapo, 20.50\",]))"
      ],
      "metadata": {
        "id": "YHhd6E0T-Pnx"
      },
      "execution_count": 44,
      "outputs": []
    },
    {
      "cell_type": "code",
      "source": [
        "schema = StructType([\n",
        "    StructField(\"city\", StringType(),nullable = True),\n",
        "    StructField(\"type\", StringType(),nullable = True),\n",
        "    StructField(\"price\", FloatType(),nullable = True)\n",
        "])"
      ],
      "metadata": {
        "id": "fqTpgTrp-tlj"
      },
      "execution_count": 45,
      "outputs": []
    },
    {
      "cell_type": "code",
      "source": [
        "schema"
      ],
      "metadata": {
        "colab": {
          "base_uri": "https://localhost:8080/"
        },
        "id": "4v0ufVBc_Z8L",
        "outputId": "4593ba36-78fb-42da-8727-b2b280618e5f"
      },
      "execution_count": 46,
      "outputs": [
        {
          "output_type": "execute_result",
          "data": {
            "text/plain": [
              "StructType([StructField('city', StringType(), True), StructField('type', StringType(), True), StructField('price', FloatType(), True)])"
            ]
          },
          "metadata": {},
          "execution_count": 46
        }
      ]
    },
    {
      "cell_type": "code",
      "source": [
        "df = spark.createDataFrame(\n",
        "    data,\n",
        "    schema=schema\n",
        ")"
      ],
      "metadata": {
        "id": "Dg1uVKyu_cZ7"
      },
      "execution_count": 47,
      "outputs": []
    },
    {
      "cell_type": "code",
      "source": [
        "df"
      ],
      "metadata": {
        "colab": {
          "base_uri": "https://localhost:8080/"
        },
        "id": "OVjJM6Mj_sWV",
        "outputId": "cdc48f4f-1b3d-4226-b225-191bcbbcc380"
      },
      "execution_count": 60,
      "outputs": [
        {
          "output_type": "execute_result",
          "data": {
            "text/plain": [
              "DataFrame[city: string, type: string, price: float]"
            ]
          },
          "metadata": {},
          "execution_count": 60
        }
      ]
    },
    {
      "cell_type": "code",
      "source": [
        "df.show()"
      ],
      "metadata": {
        "colab": {
          "base_uri": "https://localhost:8080/"
        },
        "id": "ekemZ3M2_uUG",
        "outputId": "d7a837c3-c7e0-4379-f345-f522344faa4c"
      },
      "execution_count": 59,
      "outputs": [
        {
          "output_type": "stream",
          "name": "stdout",
          "text": [
            "+------+--------+-----+\n",
            "|  city|    type|price|\n",
            "+------+--------+-----+\n",
            "| Paris|    Food| 19.0|\n",
            "|  Hola| Clothes| 12.0|\n",
            "| Paris|   Snack| 19.0|\n",
            "|Rongai|   Chapo| 20.5|\n",
            "| Paris|    Food| 19.0|\n",
            "|Riruta|   House| 99.5|\n",
            "|  Mary|    Book|  5.0|\n",
            "|Rongai|   Chapo| 20.5|\n",
            "+------+--------+-----+\n",
            "\n"
          ]
        }
      ]
    },
    {
      "cell_type": "markdown",
      "source": [
        "Part 4: Filter and other functions in Pyspark\n"
      ],
      "metadata": {
        "id": "ckU8jQGaAYbQ"
      }
    },
    {
      "cell_type": "code",
      "source": [
        "df.filter(df.city == \"Paris\").show()"
      ],
      "metadata": {
        "colab": {
          "base_uri": "https://localhost:8080/"
        },
        "id": "XUHe3RdX_v7I",
        "outputId": "fc4a4a74-e816-4d91-8a76-295b37046647"
      },
      "execution_count": 62,
      "outputs": [
        {
          "output_type": "stream",
          "name": "stdout",
          "text": [
            "+-----+------+-----+\n",
            "| city|  type|price|\n",
            "+-----+------+-----+\n",
            "|Paris|  Food| 19.0|\n",
            "|Paris| Snack| 19.0|\n",
            "|Paris|  Food| 19.0|\n",
            "+-----+------+-----+\n",
            "\n"
          ]
        }
      ]
    },
    {
      "cell_type": "code",
      "source": [
        "df.filter((df.city == \"Paris\") & (df.price == \"19.00\")).show()"
      ],
      "metadata": {
        "colab": {
          "base_uri": "https://localhost:8080/"
        },
        "id": "g2OgkAr1A4ZI",
        "outputId": "e50f77d2-025b-4bcb-e0cb-7cccd5defcbd"
      },
      "execution_count": 64,
      "outputs": [
        {
          "output_type": "stream",
          "name": "stdout",
          "text": [
            "+-----+------+-----+\n",
            "| city|  type|price|\n",
            "+-----+------+-----+\n",
            "|Paris|  Food| 19.0|\n",
            "|Paris| Snack| 19.0|\n",
            "|Paris|  Food| 19.0|\n",
            "+-----+------+-----+\n",
            "\n"
          ]
        }
      ]
    },
    {
      "cell_type": "markdown",
      "source": [
        "Part 5: OrderBy statements"
      ],
      "metadata": {
        "id": "zXeHllVdDNPp"
      }
    },
    {
      "cell_type": "code",
      "source": [
        "df.orderBy(df.city).show()"
      ],
      "metadata": {
        "colab": {
          "base_uri": "https://localhost:8080/"
        },
        "id": "2KKkgox3BaVm",
        "outputId": "f2a5010f-e7d8-4c1c-9a8f-e4de005b9bf3"
      },
      "execution_count": 65,
      "outputs": [
        {
          "output_type": "stream",
          "name": "stdout",
          "text": [
            "+------+--------+-----+\n",
            "|  city|    type|price|\n",
            "+------+--------+-----+\n",
            "|  Hola| Clothes| 12.0|\n",
            "|  Mary|    Book|  5.0|\n",
            "| Paris|    Food| 19.0|\n",
            "| Paris|    Food| 19.0|\n",
            "| Paris|   Snack| 19.0|\n",
            "|Riruta|   House| 99.5|\n",
            "|Rongai|   Chapo| 20.5|\n",
            "|Rongai|   Chapo| 20.5|\n",
            "+------+--------+-----+\n",
            "\n"
          ]
        }
      ]
    },
    {
      "cell_type": "code",
      "source": [
        "df.orderBy(df.city).orderBy(df.price).show()"
      ],
      "metadata": {
        "colab": {
          "base_uri": "https://localhost:8080/"
        },
        "id": "P_HD_uTuDbrj",
        "outputId": "c0bdf865-76dd-45e5-d4f2-e5135dce2698"
      },
      "execution_count": 67,
      "outputs": [
        {
          "output_type": "stream",
          "name": "stdout",
          "text": [
            "+------+--------+-----+\n",
            "|  city|    type|price|\n",
            "+------+--------+-----+\n",
            "|  Mary|    Book|  5.0|\n",
            "|  Hola| Clothes| 12.0|\n",
            "| Paris|    Food| 19.0|\n",
            "| Paris|    Food| 19.0|\n",
            "| Paris|   Snack| 19.0|\n",
            "|Rongai|   Chapo| 20.5|\n",
            "|Rongai|   Chapo| 20.5|\n",
            "|Riruta|   House| 99.5|\n",
            "+------+--------+-----+\n",
            "\n"
          ]
        }
      ]
    },
    {
      "cell_type": "markdown",
      "source": [
        "Part 6: Manipulating Columns with Pyspark"
      ],
      "metadata": {
        "id": "7S8QGO7KDyA3"
      }
    },
    {
      "cell_type": "code",
      "source": [
        "from pyspark.sql.functions import lit, rand\n",
        "df = df.withColumn(\"six\",lit(6))\n",
        "df.show()"
      ],
      "metadata": {
        "colab": {
          "base_uri": "https://localhost:8080/"
        },
        "id": "6Nw2bzRNDnm0",
        "outputId": "44c31539-7de8-4ac8-86fe-7099d69a1a6d"
      },
      "execution_count": 68,
      "outputs": [
        {
          "output_type": "stream",
          "name": "stdout",
          "text": [
            "+------+--------+-----+---+\n",
            "|  city|    type|price|six|\n",
            "+------+--------+-----+---+\n",
            "| Paris|    Food| 19.0|  6|\n",
            "|  Hola| Clothes| 12.0|  6|\n",
            "| Paris|   Snack| 19.0|  6|\n",
            "|Rongai|   Chapo| 20.5|  6|\n",
            "| Paris|    Food| 19.0|  6|\n",
            "|Riruta|   House| 99.5|  6|\n",
            "|  Mary|    Book|  5.0|  6|\n",
            "|Rongai|   Chapo| 20.5|  6|\n",
            "+------+--------+-----+---+\n",
            "\n"
          ]
        }
      ]
    },
    {
      "cell_type": "code",
      "source": [
        "df.withColumn(\"discount\", df.price * 0.75).show()"
      ],
      "metadata": {
        "colab": {
          "base_uri": "https://localhost:8080/"
        },
        "id": "1QYMhtWCEJbU",
        "outputId": "38c6e59c-f82c-4707-fe1f-055136fc1d37"
      },
      "execution_count": 69,
      "outputs": [
        {
          "output_type": "stream",
          "name": "stdout",
          "text": [
            "+------+--------+-----+---+--------+\n",
            "|  city|    type|price|six|discount|\n",
            "+------+--------+-----+---+--------+\n",
            "| Paris|    Food| 19.0|  6|   14.25|\n",
            "|  Hola| Clothes| 12.0|  6|     9.0|\n",
            "| Paris|   Snack| 19.0|  6|   14.25|\n",
            "|Rongai|   Chapo| 20.5|  6|  15.375|\n",
            "| Paris|    Food| 19.0|  6|   14.25|\n",
            "|Riruta|   House| 99.5|  6|  74.625|\n",
            "|  Mary|    Book|  5.0|  6|    3.75|\n",
            "|Rongai|   Chapo| 20.5|  6|  15.375|\n",
            "+------+--------+-----+---+--------+\n",
            "\n"
          ]
        }
      ]
    },
    {
      "cell_type": "code",
      "source": [
        "df.withColumn(\"New price\", df.price + 6).show()"
      ],
      "metadata": {
        "colab": {
          "base_uri": "https://localhost:8080/"
        },
        "id": "Lcw8LYQhEdCy",
        "outputId": "e2439b70-c709-4352-e848-1b45bdf5afe7"
      },
      "execution_count": 70,
      "outputs": [
        {
          "output_type": "stream",
          "name": "stdout",
          "text": [
            "+------+--------+-----+---+---------+\n",
            "|  city|    type|price|six|New price|\n",
            "+------+--------+-----+---+---------+\n",
            "| Paris|    Food| 19.0|  6|     25.0|\n",
            "|  Hola| Clothes| 12.0|  6|     18.0|\n",
            "| Paris|   Snack| 19.0|  6|     25.0|\n",
            "|Rongai|   Chapo| 20.5|  6|     26.5|\n",
            "| Paris|    Food| 19.0|  6|     25.0|\n",
            "|Riruta|   House| 99.5|  6|    105.5|\n",
            "|  Mary|    Book|  5.0|  6|     11.0|\n",
            "|Rongai|   Chapo| 20.5|  6|     26.5|\n",
            "+------+--------+-----+---+---------+\n",
            "\n"
          ]
        }
      ]
    },
    {
      "cell_type": "code",
      "source": [
        "df.drop(\"six\").show()"
      ],
      "metadata": {
        "colab": {
          "base_uri": "https://localhost:8080/"
        },
        "id": "ItszkotJEpBj",
        "outputId": "ecf07d39-bec6-42f5-b44f-88b4ff5cab88"
      },
      "execution_count": 71,
      "outputs": [
        {
          "output_type": "stream",
          "name": "stdout",
          "text": [
            "+------+--------+-----+\n",
            "|  city|    type|price|\n",
            "+------+--------+-----+\n",
            "| Paris|    Food| 19.0|\n",
            "|  Hola| Clothes| 12.0|\n",
            "| Paris|   Snack| 19.0|\n",
            "|Rongai|   Chapo| 20.5|\n",
            "| Paris|    Food| 19.0|\n",
            "|Riruta|   House| 99.5|\n",
            "|  Mary|    Book|  5.0|\n",
            "|Rongai|   Chapo| 20.5|\n",
            "+------+--------+-----+\n",
            "\n"
          ]
        }
      ]
    },
    {
      "cell_type": "code",
      "source": [
        "df.show()"
      ],
      "metadata": {
        "colab": {
          "base_uri": "https://localhost:8080/"
        },
        "id": "f0SdRzfpEzdN",
        "outputId": "de810623-40dc-4a53-e4af-44c1db99e00c"
      },
      "execution_count": 72,
      "outputs": [
        {
          "output_type": "stream",
          "name": "stdout",
          "text": [
            "+------+--------+-----+---+\n",
            "|  city|    type|price|six|\n",
            "+------+--------+-----+---+\n",
            "| Paris|    Food| 19.0|  6|\n",
            "|  Hola| Clothes| 12.0|  6|\n",
            "| Paris|   Snack| 19.0|  6|\n",
            "|Rongai|   Chapo| 20.5|  6|\n",
            "| Paris|    Food| 19.0|  6|\n",
            "|Riruta|   House| 99.5|  6|\n",
            "|  Mary|    Book|  5.0|  6|\n",
            "|Rongai|   Chapo| 20.5|  6|\n",
            "+------+--------+-----+---+\n",
            "\n"
          ]
        }
      ]
    },
    {
      "cell_type": "code",
      "source": [
        "df.sort(df.price.asc()).show()"
      ],
      "metadata": {
        "colab": {
          "base_uri": "https://localhost:8080/"
        },
        "id": "LBiMMtXlE38W",
        "outputId": "7cd25b8b-ca53-4f75-e283-bb66315d4387"
      },
      "execution_count": 73,
      "outputs": [
        {
          "output_type": "stream",
          "name": "stdout",
          "text": [
            "+------+--------+-----+---+\n",
            "|  city|    type|price|six|\n",
            "+------+--------+-----+---+\n",
            "|  Mary|    Book|  5.0|  6|\n",
            "|  Hola| Clothes| 12.0|  6|\n",
            "| Paris|    Food| 19.0|  6|\n",
            "| Paris|    Food| 19.0|  6|\n",
            "| Paris|   Snack| 19.0|  6|\n",
            "|Rongai|   Chapo| 20.5|  6|\n",
            "|Rongai|   Chapo| 20.5|  6|\n",
            "|Riruta|   House| 99.5|  6|\n",
            "+------+--------+-----+---+\n",
            "\n"
          ]
        }
      ]
    },
    {
      "cell_type": "markdown",
      "source": [],
      "metadata": {
        "id": "yQZ_D4TaMguL"
      }
    },
    {
      "cell_type": "markdown",
      "source": [
        "Part 7: Rename columns"
      ],
      "metadata": {
        "id": "0QVx8tE8MjjU"
      }
    },
    {
      "cell_type": "code",
      "source": [
        "df.show()"
      ],
      "metadata": {
        "colab": {
          "base_uri": "https://localhost:8080/"
        },
        "id": "XiV8LttbJ5mN",
        "outputId": "c258220a-09af-4f93-98fa-bf3713de1b46"
      },
      "execution_count": 74,
      "outputs": [
        {
          "output_type": "stream",
          "name": "stdout",
          "text": [
            "+------+--------+-----+---+\n",
            "|  city|    type|price|six|\n",
            "+------+--------+-----+---+\n",
            "| Paris|    Food| 19.0|  6|\n",
            "|  Hola| Clothes| 12.0|  6|\n",
            "| Paris|   Snack| 19.0|  6|\n",
            "|Rongai|   Chapo| 20.5|  6|\n",
            "| Paris|    Food| 19.0|  6|\n",
            "|Riruta|   House| 99.5|  6|\n",
            "|  Mary|    Book|  5.0|  6|\n",
            "|Rongai|   Chapo| 20.5|  6|\n",
            "+------+--------+-----+---+\n",
            "\n"
          ]
        }
      ]
    },
    {
      "cell_type": "code",
      "source": [
        "df = df.withColumnRenamed(\"type\", \"Commodity\")\n",
        "df.show()"
      ],
      "metadata": {
        "colab": {
          "base_uri": "https://localhost:8080/"
        },
        "id": "H8EzDc8-Mn6m",
        "outputId": "a96cefec-3006-4d85-e02a-f9a3739d8238"
      },
      "execution_count": 75,
      "outputs": [
        {
          "output_type": "stream",
          "name": "stdout",
          "text": [
            "+------+---------+-----+---+\n",
            "|  city|Commodity|price|six|\n",
            "+------+---------+-----+---+\n",
            "| Paris|     Food| 19.0|  6|\n",
            "|  Hola|  Clothes| 12.0|  6|\n",
            "| Paris|    Snack| 19.0|  6|\n",
            "|Rongai|    Chapo| 20.5|  6|\n",
            "| Paris|     Food| 19.0|  6|\n",
            "|Riruta|    House| 99.5|  6|\n",
            "|  Mary|     Book|  5.0|  6|\n",
            "|Rongai|    Chapo| 20.5|  6|\n",
            "+------+---------+-----+---+\n",
            "\n"
          ]
        }
      ]
    },
    {
      "cell_type": "markdown",
      "source": [
        "GroupBy\n"
      ],
      "metadata": {
        "id": "1U6cOu8_OXOE"
      }
    },
    {
      "cell_type": "code",
      "source": [
        "SimpleData = [\n",
        "    (\"James\", \"Sales\", \"NY\", 90000, 34, 10000),\n",
        "    (\"Emma\", \"Marketing\", \"CA\", 85000, 29, 8000),\n",
        "    (\"Michael\", \"Engineering\", \"TX\", 95000, 40, 12000),\n",
        "    (\"Sophia\", \"Human Resources\", \"IL\", 80000, 31, 9000),\n",
        "    (\"William\", \"Finance\", \"NY\", 92000, 36, 11000),\n",
        "    (\"Olivia\", \"Sales\", \"CA\", 88000, 30, 9500),\n",
        "    (\"Daniel\", \"Marketing\", \"TX\", 86000, 32, 8500),\n",
        "    (\"Ava\", \"Engineering\", \"CA\", 98000, 38, 13000),\n",
        "    (\"Matthew\", \"Human Resources\", \"NY\", 82000, 27, 7500),\n",
        "    (\"Emily\", \"Finance\", \"IL\", 91000, 35, 10500),\n",
        "    (\" \", \"Engineering\", \"CA\", 93000, 33, 12500),\n",
        "    (\"Liam\", None, \"TX\", 89000, 37, 10000),\n",
        "    (\"Oliver\", \"Sales\",\" \" , 86000, 28, 9000),\n",
        "    (\"Harper\", \"Finance\", \"IL\", None, 29, 9500)\n",
        "]\n",
        "\n",
        "schema = [\"employee_name\", \"department\", \"state\", \"salary\", \"age\", \"bonus\"]\n",
        "\n",
        "df = spark.createDataFrame(data=SimpleData, schema=schema)\n",
        "df.printSchema()\n",
        "df.show(truncate=False)"
      ],
      "metadata": {
        "colab": {
          "base_uri": "https://localhost:8080/"
        },
        "id": "TkateE7dOJzI",
        "outputId": "6eeaa270-ce87-4dcb-c4c6-d691ea821102"
      },
      "execution_count": 111,
      "outputs": [
        {
          "output_type": "stream",
          "name": "stdout",
          "text": [
            "root\n",
            " |-- employee_name: string (nullable = true)\n",
            " |-- department: string (nullable = true)\n",
            " |-- state: string (nullable = true)\n",
            " |-- salary: long (nullable = true)\n",
            " |-- age: long (nullable = true)\n",
            " |-- bonus: long (nullable = true)\n",
            "\n",
            "+-------------+---------------+-----+------+---+-----+\n",
            "|employee_name|department     |state|salary|age|bonus|\n",
            "+-------------+---------------+-----+------+---+-----+\n",
            "|James        |Sales          |NY   |90000 |34 |10000|\n",
            "|Emma         |Marketing      |CA   |85000 |29 |8000 |\n",
            "|Michael      |Engineering    |TX   |95000 |40 |12000|\n",
            "|Sophia       |Human Resources|IL   |80000 |31 |9000 |\n",
            "|William      |Finance        |NY   |92000 |36 |11000|\n",
            "|Olivia       |Sales          |CA   |88000 |30 |9500 |\n",
            "|Daniel       |Marketing      |TX   |86000 |32 |8500 |\n",
            "|Ava          |Engineering    |CA   |98000 |38 |13000|\n",
            "|Matthew      |Human Resources|NY   |82000 |27 |7500 |\n",
            "|Emily        |Finance        |IL   |91000 |35 |10500|\n",
            "|             |Engineering    |CA   |93000 |33 |12500|\n",
            "|Liam         |null           |TX   |89000 |37 |10000|\n",
            "|Oliver       |Sales          |     |86000 |28 |9000 |\n",
            "|Harper       |Finance        |IL   |null  |29 |9500 |\n",
            "+-------------+---------------+-----+------+---+-----+\n",
            "\n"
          ]
        }
      ]
    },
    {
      "cell_type": "code",
      "source": [
        "df.groupBy(\"department\").sum(\"salary\").show()"
      ],
      "metadata": {
        "colab": {
          "base_uri": "https://localhost:8080/"
        },
        "id": "LNFuj9owPY-y",
        "outputId": "95a67d1d-b043-4996-b5d9-18f2946f9b8d"
      },
      "execution_count": 78,
      "outputs": [
        {
          "output_type": "stream",
          "name": "stdout",
          "text": [
            "+---------------+-----------+\n",
            "|     department|sum(salary)|\n",
            "+---------------+-----------+\n",
            "|          Sales|     178000|\n",
            "|    Engineering|     193000|\n",
            "|        Finance|     183000|\n",
            "|      Marketing|     171000|\n",
            "|Human Resources|     162000|\n",
            "+---------------+-----------+\n",
            "\n"
          ]
        }
      ]
    },
    {
      "cell_type": "code",
      "source": [
        "df.groupBy(\"department\").mean(\"salary\").show()"
      ],
      "metadata": {
        "colab": {
          "base_uri": "https://localhost:8080/"
        },
        "id": "StE3ZqCvPvOx",
        "outputId": "37ae77f1-6140-4678-d243-0c503d9d6802"
      },
      "execution_count": 79,
      "outputs": [
        {
          "output_type": "stream",
          "name": "stdout",
          "text": [
            "+---------------+-----------+\n",
            "|     department|avg(salary)|\n",
            "+---------------+-----------+\n",
            "|          Sales|    89000.0|\n",
            "|    Engineering|    96500.0|\n",
            "|        Finance|    91500.0|\n",
            "|      Marketing|    85500.0|\n",
            "|Human Resources|    81000.0|\n",
            "+---------------+-----------+\n",
            "\n"
          ]
        }
      ]
    },
    {
      "cell_type": "code",
      "source": [
        "df.groupBy(\"state\").count().withColumnRenamed(\"count\",\"StateCount\").select(\"StateCount\").show()"
      ],
      "metadata": {
        "colab": {
          "base_uri": "https://localhost:8080/"
        },
        "id": "3N3oweYWP2Yx",
        "outputId": "fd5576f0-d227-42de-a007-25561a8ad8c8"
      },
      "execution_count": 81,
      "outputs": [
        {
          "output_type": "stream",
          "name": "stdout",
          "text": [
            "+----------+\n",
            "|StateCount|\n",
            "+----------+\n",
            "|         3|\n",
            "|         2|\n",
            "|         3|\n",
            "|         2|\n",
            "+----------+\n",
            "\n"
          ]
        }
      ]
    },
    {
      "cell_type": "markdown",
      "source": [
        "UDF User Defined Function in PySpark"
      ],
      "metadata": {
        "id": "63Htfr_fQlnF"
      }
    },
    {
      "cell_type": "code",
      "source": [
        "df.show()"
      ],
      "metadata": {
        "colab": {
          "base_uri": "https://localhost:8080/"
        },
        "id": "6y9266YXQDjC",
        "outputId": "6ce35383-ab59-4e86-a6a6-74f63a8dfc36"
      },
      "execution_count": 87,
      "outputs": [
        {
          "output_type": "stream",
          "name": "stdout",
          "text": [
            "+-------------+---------------+-----+------+---+-----+\n",
            "|employee_name|     department|state|salary|age|bonus|\n",
            "+-------------+---------------+-----+------+---+-----+\n",
            "|        James|          Sales|   NY| 90000| 34|10000|\n",
            "|         Emma|      Marketing|   CA| 85000| 29| 8000|\n",
            "|      Michael|    Engineering|   TX| 95000| 40|12000|\n",
            "|       Sophia|Human Resources|   IL| 80000| 31| 9000|\n",
            "|      William|        Finance|   NY| 92000| 36|11000|\n",
            "|       Olivia|          Sales|   CA| 88000| 30| 9500|\n",
            "|       Daniel|      Marketing|   TX| 86000| 32| 8500|\n",
            "|          Ava|    Engineering|   CA| 98000| 38|13000|\n",
            "|      Matthew|Human Resources|   NY| 82000| 27| 7500|\n",
            "|        Emily|        Finance|   IL| 91000| 35|10500|\n",
            "+-------------+---------------+-----+------+---+-----+\n",
            "\n"
          ]
        }
      ]
    },
    {
      "cell_type": "code",
      "source": [
        "from pyspark.sql.functions import udf"
      ],
      "metadata": {
        "id": "LTQF7LBDQrGa"
      },
      "execution_count": 88,
      "outputs": []
    },
    {
      "cell_type": "code",
      "source": [
        "@udf(\"float\")\n",
        "def add_3(x):\n",
        "  return x * 2.45"
      ],
      "metadata": {
        "id": "tDA6nxoeQ3g1"
      },
      "execution_count": 96,
      "outputs": []
    },
    {
      "cell_type": "code",
      "source": [
        "df.select(add_3(df.salary)).alias(\"Performance_Bonus\").show()"
      ],
      "metadata": {
        "colab": {
          "base_uri": "https://localhost:8080/"
        },
        "id": "9Qap4uHORAD5",
        "outputId": "287585c1-7883-4a13-c5df-26ecebfb6270"
      },
      "execution_count": 98,
      "outputs": [
        {
          "output_type": "stream",
          "name": "stdout",
          "text": [
            "+-------------+\n",
            "|add_3(salary)|\n",
            "+-------------+\n",
            "|     220500.0|\n",
            "|     208250.0|\n",
            "|     232750.0|\n",
            "|     196000.0|\n",
            "|     225400.0|\n",
            "|     215600.0|\n",
            "|     210700.0|\n",
            "|     240100.0|\n",
            "|     200900.0|\n",
            "|     222950.0|\n",
            "+-------------+\n",
            "\n"
          ]
        }
      ]
    },
    {
      "cell_type": "markdown",
      "source": [
        "Pyspark to Pandas"
      ],
      "metadata": {
        "id": "QQYkvKOOR4j5"
      }
    },
    {
      "cell_type": "code",
      "source": [
        "df = df.toPandas()"
      ],
      "metadata": {
        "id": "iRzA5xM4RSwe"
      },
      "execution_count": 99,
      "outputs": []
    },
    {
      "cell_type": "code",
      "source": [
        "import pandas as pd\n"
      ],
      "metadata": {
        "id": "CEkJVJgCSAOJ"
      },
      "execution_count": 100,
      "outputs": []
    },
    {
      "cell_type": "code",
      "source": [
        "df"
      ],
      "metadata": {
        "colab": {
          "base_uri": "https://localhost:8080/",
          "height": 363
        },
        "id": "tylkl1mRSCLd",
        "outputId": "e2b8023c-ddcc-4aa8-d621-332d67f42766"
      },
      "execution_count": 102,
      "outputs": [
        {
          "output_type": "execute_result",
          "data": {
            "text/plain": [
              "  employee_name       department state  salary  age  bonus\n",
              "0         James            Sales    NY   90000   34  10000\n",
              "1          Emma        Marketing    CA   85000   29   8000\n",
              "2       Michael      Engineering    TX   95000   40  12000\n",
              "3        Sophia  Human Resources    IL   80000   31   9000\n",
              "4       William          Finance    NY   92000   36  11000\n",
              "5        Olivia            Sales    CA   88000   30   9500\n",
              "6        Daniel        Marketing    TX   86000   32   8500\n",
              "7           Ava      Engineering    CA   98000   38  13000\n",
              "8       Matthew  Human Resources    NY   82000   27   7500\n",
              "9         Emily          Finance    IL   91000   35  10500"
            ],
            "text/html": [
              "\n",
              "  <div id=\"df-355c3300-04e1-4b27-8253-045142c23013\" class=\"colab-df-container\">\n",
              "    <div>\n",
              "<style scoped>\n",
              "    .dataframe tbody tr th:only-of-type {\n",
              "        vertical-align: middle;\n",
              "    }\n",
              "\n",
              "    .dataframe tbody tr th {\n",
              "        vertical-align: top;\n",
              "    }\n",
              "\n",
              "    .dataframe thead th {\n",
              "        text-align: right;\n",
              "    }\n",
              "</style>\n",
              "<table border=\"1\" class=\"dataframe\">\n",
              "  <thead>\n",
              "    <tr style=\"text-align: right;\">\n",
              "      <th></th>\n",
              "      <th>employee_name</th>\n",
              "      <th>department</th>\n",
              "      <th>state</th>\n",
              "      <th>salary</th>\n",
              "      <th>age</th>\n",
              "      <th>bonus</th>\n",
              "    </tr>\n",
              "  </thead>\n",
              "  <tbody>\n",
              "    <tr>\n",
              "      <th>0</th>\n",
              "      <td>James</td>\n",
              "      <td>Sales</td>\n",
              "      <td>NY</td>\n",
              "      <td>90000</td>\n",
              "      <td>34</td>\n",
              "      <td>10000</td>\n",
              "    </tr>\n",
              "    <tr>\n",
              "      <th>1</th>\n",
              "      <td>Emma</td>\n",
              "      <td>Marketing</td>\n",
              "      <td>CA</td>\n",
              "      <td>85000</td>\n",
              "      <td>29</td>\n",
              "      <td>8000</td>\n",
              "    </tr>\n",
              "    <tr>\n",
              "      <th>2</th>\n",
              "      <td>Michael</td>\n",
              "      <td>Engineering</td>\n",
              "      <td>TX</td>\n",
              "      <td>95000</td>\n",
              "      <td>40</td>\n",
              "      <td>12000</td>\n",
              "    </tr>\n",
              "    <tr>\n",
              "      <th>3</th>\n",
              "      <td>Sophia</td>\n",
              "      <td>Human Resources</td>\n",
              "      <td>IL</td>\n",
              "      <td>80000</td>\n",
              "      <td>31</td>\n",
              "      <td>9000</td>\n",
              "    </tr>\n",
              "    <tr>\n",
              "      <th>4</th>\n",
              "      <td>William</td>\n",
              "      <td>Finance</td>\n",
              "      <td>NY</td>\n",
              "      <td>92000</td>\n",
              "      <td>36</td>\n",
              "      <td>11000</td>\n",
              "    </tr>\n",
              "    <tr>\n",
              "      <th>5</th>\n",
              "      <td>Olivia</td>\n",
              "      <td>Sales</td>\n",
              "      <td>CA</td>\n",
              "      <td>88000</td>\n",
              "      <td>30</td>\n",
              "      <td>9500</td>\n",
              "    </tr>\n",
              "    <tr>\n",
              "      <th>6</th>\n",
              "      <td>Daniel</td>\n",
              "      <td>Marketing</td>\n",
              "      <td>TX</td>\n",
              "      <td>86000</td>\n",
              "      <td>32</td>\n",
              "      <td>8500</td>\n",
              "    </tr>\n",
              "    <tr>\n",
              "      <th>7</th>\n",
              "      <td>Ava</td>\n",
              "      <td>Engineering</td>\n",
              "      <td>CA</td>\n",
              "      <td>98000</td>\n",
              "      <td>38</td>\n",
              "      <td>13000</td>\n",
              "    </tr>\n",
              "    <tr>\n",
              "      <th>8</th>\n",
              "      <td>Matthew</td>\n",
              "      <td>Human Resources</td>\n",
              "      <td>NY</td>\n",
              "      <td>82000</td>\n",
              "      <td>27</td>\n",
              "      <td>7500</td>\n",
              "    </tr>\n",
              "    <tr>\n",
              "      <th>9</th>\n",
              "      <td>Emily</td>\n",
              "      <td>Finance</td>\n",
              "      <td>IL</td>\n",
              "      <td>91000</td>\n",
              "      <td>35</td>\n",
              "      <td>10500</td>\n",
              "    </tr>\n",
              "  </tbody>\n",
              "</table>\n",
              "</div>\n",
              "    <div class=\"colab-df-buttons\">\n",
              "\n",
              "  <div class=\"colab-df-container\">\n",
              "    <button class=\"colab-df-convert\" onclick=\"convertToInteractive('df-355c3300-04e1-4b27-8253-045142c23013')\"\n",
              "            title=\"Convert this dataframe to an interactive table.\"\n",
              "            style=\"display:none;\">\n",
              "\n",
              "  <svg xmlns=\"http://www.w3.org/2000/svg\" height=\"24px\" viewBox=\"0 -960 960 960\">\n",
              "    <path d=\"M120-120v-720h720v720H120Zm60-500h600v-160H180v160Zm220 220h160v-160H400v160Zm0 220h160v-160H400v160ZM180-400h160v-160H180v160Zm440 0h160v-160H620v160ZM180-180h160v-160H180v160Zm440 0h160v-160H620v160Z\"/>\n",
              "  </svg>\n",
              "    </button>\n",
              "\n",
              "  <style>\n",
              "    .colab-df-container {\n",
              "      display:flex;\n",
              "      gap: 12px;\n",
              "    }\n",
              "\n",
              "    .colab-df-convert {\n",
              "      background-color: #E8F0FE;\n",
              "      border: none;\n",
              "      border-radius: 50%;\n",
              "      cursor: pointer;\n",
              "      display: none;\n",
              "      fill: #1967D2;\n",
              "      height: 32px;\n",
              "      padding: 0 0 0 0;\n",
              "      width: 32px;\n",
              "    }\n",
              "\n",
              "    .colab-df-convert:hover {\n",
              "      background-color: #E2EBFA;\n",
              "      box-shadow: 0px 1px 2px rgba(60, 64, 67, 0.3), 0px 1px 3px 1px rgba(60, 64, 67, 0.15);\n",
              "      fill: #174EA6;\n",
              "    }\n",
              "\n",
              "    .colab-df-buttons div {\n",
              "      margin-bottom: 4px;\n",
              "    }\n",
              "\n",
              "    [theme=dark] .colab-df-convert {\n",
              "      background-color: #3B4455;\n",
              "      fill: #D2E3FC;\n",
              "    }\n",
              "\n",
              "    [theme=dark] .colab-df-convert:hover {\n",
              "      background-color: #434B5C;\n",
              "      box-shadow: 0px 1px 3px 1px rgba(0, 0, 0, 0.15);\n",
              "      filter: drop-shadow(0px 1px 2px rgba(0, 0, 0, 0.3));\n",
              "      fill: #FFFFFF;\n",
              "    }\n",
              "  </style>\n",
              "\n",
              "    <script>\n",
              "      const buttonEl =\n",
              "        document.querySelector('#df-355c3300-04e1-4b27-8253-045142c23013 button.colab-df-convert');\n",
              "      buttonEl.style.display =\n",
              "        google.colab.kernel.accessAllowed ? 'block' : 'none';\n",
              "\n",
              "      async function convertToInteractive(key) {\n",
              "        const element = document.querySelector('#df-355c3300-04e1-4b27-8253-045142c23013');\n",
              "        const dataTable =\n",
              "          await google.colab.kernel.invokeFunction('convertToInteractive',\n",
              "                                                    [key], {});\n",
              "        if (!dataTable) return;\n",
              "\n",
              "        const docLinkHtml = 'Like what you see? Visit the ' +\n",
              "          '<a target=\"_blank\" href=https://colab.research.google.com/notebooks/data_table.ipynb>data table notebook</a>'\n",
              "          + ' to learn more about interactive tables.';\n",
              "        element.innerHTML = '';\n",
              "        dataTable['output_type'] = 'display_data';\n",
              "        await google.colab.output.renderOutput(dataTable, element);\n",
              "        const docLink = document.createElement('div');\n",
              "        docLink.innerHTML = docLinkHtml;\n",
              "        element.appendChild(docLink);\n",
              "      }\n",
              "    </script>\n",
              "  </div>\n",
              "\n",
              "\n",
              "<div id=\"df-7dc9af9e-42fc-4ed3-9387-a24fd66c0792\">\n",
              "  <button class=\"colab-df-quickchart\" onclick=\"quickchart('df-7dc9af9e-42fc-4ed3-9387-a24fd66c0792')\"\n",
              "            title=\"Suggest charts.\"\n",
              "            style=\"display:none;\">\n",
              "\n",
              "<svg xmlns=\"http://www.w3.org/2000/svg\" height=\"24px\"viewBox=\"0 0 24 24\"\n",
              "     width=\"24px\">\n",
              "    <g>\n",
              "        <path d=\"M19 3H5c-1.1 0-2 .9-2 2v14c0 1.1.9 2 2 2h14c1.1 0 2-.9 2-2V5c0-1.1-.9-2-2-2zM9 17H7v-7h2v7zm4 0h-2V7h2v10zm4 0h-2v-4h2v4z\"/>\n",
              "    </g>\n",
              "</svg>\n",
              "  </button>\n",
              "\n",
              "<style>\n",
              "  .colab-df-quickchart {\n",
              "      --bg-color: #E8F0FE;\n",
              "      --fill-color: #1967D2;\n",
              "      --hover-bg-color: #E2EBFA;\n",
              "      --hover-fill-color: #174EA6;\n",
              "      --disabled-fill-color: #AAA;\n",
              "      --disabled-bg-color: #DDD;\n",
              "  }\n",
              "\n",
              "  [theme=dark] .colab-df-quickchart {\n",
              "      --bg-color: #3B4455;\n",
              "      --fill-color: #D2E3FC;\n",
              "      --hover-bg-color: #434B5C;\n",
              "      --hover-fill-color: #FFFFFF;\n",
              "      --disabled-bg-color: #3B4455;\n",
              "      --disabled-fill-color: #666;\n",
              "  }\n",
              "\n",
              "  .colab-df-quickchart {\n",
              "    background-color: var(--bg-color);\n",
              "    border: none;\n",
              "    border-radius: 50%;\n",
              "    cursor: pointer;\n",
              "    display: none;\n",
              "    fill: var(--fill-color);\n",
              "    height: 32px;\n",
              "    padding: 0;\n",
              "    width: 32px;\n",
              "  }\n",
              "\n",
              "  .colab-df-quickchart:hover {\n",
              "    background-color: var(--hover-bg-color);\n",
              "    box-shadow: 0 1px 2px rgba(60, 64, 67, 0.3), 0 1px 3px 1px rgba(60, 64, 67, 0.15);\n",
              "    fill: var(--button-hover-fill-color);\n",
              "  }\n",
              "\n",
              "  .colab-df-quickchart-complete:disabled,\n",
              "  .colab-df-quickchart-complete:disabled:hover {\n",
              "    background-color: var(--disabled-bg-color);\n",
              "    fill: var(--disabled-fill-color);\n",
              "    box-shadow: none;\n",
              "  }\n",
              "\n",
              "  .colab-df-spinner {\n",
              "    border: 2px solid var(--fill-color);\n",
              "    border-color: transparent;\n",
              "    border-bottom-color: var(--fill-color);\n",
              "    animation:\n",
              "      spin 1s steps(1) infinite;\n",
              "  }\n",
              "\n",
              "  @keyframes spin {\n",
              "    0% {\n",
              "      border-color: transparent;\n",
              "      border-bottom-color: var(--fill-color);\n",
              "      border-left-color: var(--fill-color);\n",
              "    }\n",
              "    20% {\n",
              "      border-color: transparent;\n",
              "      border-left-color: var(--fill-color);\n",
              "      border-top-color: var(--fill-color);\n",
              "    }\n",
              "    30% {\n",
              "      border-color: transparent;\n",
              "      border-left-color: var(--fill-color);\n",
              "      border-top-color: var(--fill-color);\n",
              "      border-right-color: var(--fill-color);\n",
              "    }\n",
              "    40% {\n",
              "      border-color: transparent;\n",
              "      border-right-color: var(--fill-color);\n",
              "      border-top-color: var(--fill-color);\n",
              "    }\n",
              "    60% {\n",
              "      border-color: transparent;\n",
              "      border-right-color: var(--fill-color);\n",
              "    }\n",
              "    80% {\n",
              "      border-color: transparent;\n",
              "      border-right-color: var(--fill-color);\n",
              "      border-bottom-color: var(--fill-color);\n",
              "    }\n",
              "    90% {\n",
              "      border-color: transparent;\n",
              "      border-bottom-color: var(--fill-color);\n",
              "    }\n",
              "  }\n",
              "</style>\n",
              "\n",
              "  <script>\n",
              "    async function quickchart(key) {\n",
              "      const quickchartButtonEl =\n",
              "        document.querySelector('#' + key + ' button');\n",
              "      quickchartButtonEl.disabled = true;  // To prevent multiple clicks.\n",
              "      quickchartButtonEl.classList.add('colab-df-spinner');\n",
              "      try {\n",
              "        const charts = await google.colab.kernel.invokeFunction(\n",
              "            'suggestCharts', [key], {});\n",
              "      } catch (error) {\n",
              "        console.error('Error during call to suggestCharts:', error);\n",
              "      }\n",
              "      quickchartButtonEl.classList.remove('colab-df-spinner');\n",
              "      quickchartButtonEl.classList.add('colab-df-quickchart-complete');\n",
              "    }\n",
              "    (() => {\n",
              "      let quickchartButtonEl =\n",
              "        document.querySelector('#df-7dc9af9e-42fc-4ed3-9387-a24fd66c0792 button');\n",
              "      quickchartButtonEl.style.display =\n",
              "        google.colab.kernel.accessAllowed ? 'block' : 'none';\n",
              "    })();\n",
              "  </script>\n",
              "</div>\n",
              "    </div>\n",
              "  </div>\n"
            ]
          },
          "metadata": {},
          "execution_count": 102
        }
      ]
    },
    {
      "cell_type": "code",
      "source": [
        "df.describe()"
      ],
      "metadata": {
        "colab": {
          "base_uri": "https://localhost:8080/",
          "height": 300
        },
        "id": "s7vOmDmHSDrW",
        "outputId": "713829e6-ecec-4c35-9b98-f7186c23a86d"
      },
      "execution_count": 103,
      "outputs": [
        {
          "output_type": "execute_result",
          "data": {
            "text/plain": [
              "            salary        age         bonus\n",
              "count     10.00000  10.000000     10.000000\n",
              "mean   88700.00000  33.200000   9900.000000\n",
              "std     5638.16361   4.131182   1760.681686\n",
              "min    80000.00000  27.000000   7500.000000\n",
              "25%    85250.00000  30.250000   8625.000000\n",
              "50%    89000.00000  33.000000   9750.000000\n",
              "75%    91750.00000  35.750000  10875.000000\n",
              "max    98000.00000  40.000000  13000.000000"
            ],
            "text/html": [
              "\n",
              "  <div id=\"df-424c4bf3-479a-4d18-8f98-eb60aa481397\" class=\"colab-df-container\">\n",
              "    <div>\n",
              "<style scoped>\n",
              "    .dataframe tbody tr th:only-of-type {\n",
              "        vertical-align: middle;\n",
              "    }\n",
              "\n",
              "    .dataframe tbody tr th {\n",
              "        vertical-align: top;\n",
              "    }\n",
              "\n",
              "    .dataframe thead th {\n",
              "        text-align: right;\n",
              "    }\n",
              "</style>\n",
              "<table border=\"1\" class=\"dataframe\">\n",
              "  <thead>\n",
              "    <tr style=\"text-align: right;\">\n",
              "      <th></th>\n",
              "      <th>salary</th>\n",
              "      <th>age</th>\n",
              "      <th>bonus</th>\n",
              "    </tr>\n",
              "  </thead>\n",
              "  <tbody>\n",
              "    <tr>\n",
              "      <th>count</th>\n",
              "      <td>10.00000</td>\n",
              "      <td>10.000000</td>\n",
              "      <td>10.000000</td>\n",
              "    </tr>\n",
              "    <tr>\n",
              "      <th>mean</th>\n",
              "      <td>88700.00000</td>\n",
              "      <td>33.200000</td>\n",
              "      <td>9900.000000</td>\n",
              "    </tr>\n",
              "    <tr>\n",
              "      <th>std</th>\n",
              "      <td>5638.16361</td>\n",
              "      <td>4.131182</td>\n",
              "      <td>1760.681686</td>\n",
              "    </tr>\n",
              "    <tr>\n",
              "      <th>min</th>\n",
              "      <td>80000.00000</td>\n",
              "      <td>27.000000</td>\n",
              "      <td>7500.000000</td>\n",
              "    </tr>\n",
              "    <tr>\n",
              "      <th>25%</th>\n",
              "      <td>85250.00000</td>\n",
              "      <td>30.250000</td>\n",
              "      <td>8625.000000</td>\n",
              "    </tr>\n",
              "    <tr>\n",
              "      <th>50%</th>\n",
              "      <td>89000.00000</td>\n",
              "      <td>33.000000</td>\n",
              "      <td>9750.000000</td>\n",
              "    </tr>\n",
              "    <tr>\n",
              "      <th>75%</th>\n",
              "      <td>91750.00000</td>\n",
              "      <td>35.750000</td>\n",
              "      <td>10875.000000</td>\n",
              "    </tr>\n",
              "    <tr>\n",
              "      <th>max</th>\n",
              "      <td>98000.00000</td>\n",
              "      <td>40.000000</td>\n",
              "      <td>13000.000000</td>\n",
              "    </tr>\n",
              "  </tbody>\n",
              "</table>\n",
              "</div>\n",
              "    <div class=\"colab-df-buttons\">\n",
              "\n",
              "  <div class=\"colab-df-container\">\n",
              "    <button class=\"colab-df-convert\" onclick=\"convertToInteractive('df-424c4bf3-479a-4d18-8f98-eb60aa481397')\"\n",
              "            title=\"Convert this dataframe to an interactive table.\"\n",
              "            style=\"display:none;\">\n",
              "\n",
              "  <svg xmlns=\"http://www.w3.org/2000/svg\" height=\"24px\" viewBox=\"0 -960 960 960\">\n",
              "    <path d=\"M120-120v-720h720v720H120Zm60-500h600v-160H180v160Zm220 220h160v-160H400v160Zm0 220h160v-160H400v160ZM180-400h160v-160H180v160Zm440 0h160v-160H620v160ZM180-180h160v-160H180v160Zm440 0h160v-160H620v160Z\"/>\n",
              "  </svg>\n",
              "    </button>\n",
              "\n",
              "  <style>\n",
              "    .colab-df-container {\n",
              "      display:flex;\n",
              "      gap: 12px;\n",
              "    }\n",
              "\n",
              "    .colab-df-convert {\n",
              "      background-color: #E8F0FE;\n",
              "      border: none;\n",
              "      border-radius: 50%;\n",
              "      cursor: pointer;\n",
              "      display: none;\n",
              "      fill: #1967D2;\n",
              "      height: 32px;\n",
              "      padding: 0 0 0 0;\n",
              "      width: 32px;\n",
              "    }\n",
              "\n",
              "    .colab-df-convert:hover {\n",
              "      background-color: #E2EBFA;\n",
              "      box-shadow: 0px 1px 2px rgba(60, 64, 67, 0.3), 0px 1px 3px 1px rgba(60, 64, 67, 0.15);\n",
              "      fill: #174EA6;\n",
              "    }\n",
              "\n",
              "    .colab-df-buttons div {\n",
              "      margin-bottom: 4px;\n",
              "    }\n",
              "\n",
              "    [theme=dark] .colab-df-convert {\n",
              "      background-color: #3B4455;\n",
              "      fill: #D2E3FC;\n",
              "    }\n",
              "\n",
              "    [theme=dark] .colab-df-convert:hover {\n",
              "      background-color: #434B5C;\n",
              "      box-shadow: 0px 1px 3px 1px rgba(0, 0, 0, 0.15);\n",
              "      filter: drop-shadow(0px 1px 2px rgba(0, 0, 0, 0.3));\n",
              "      fill: #FFFFFF;\n",
              "    }\n",
              "  </style>\n",
              "\n",
              "    <script>\n",
              "      const buttonEl =\n",
              "        document.querySelector('#df-424c4bf3-479a-4d18-8f98-eb60aa481397 button.colab-df-convert');\n",
              "      buttonEl.style.display =\n",
              "        google.colab.kernel.accessAllowed ? 'block' : 'none';\n",
              "\n",
              "      async function convertToInteractive(key) {\n",
              "        const element = document.querySelector('#df-424c4bf3-479a-4d18-8f98-eb60aa481397');\n",
              "        const dataTable =\n",
              "          await google.colab.kernel.invokeFunction('convertToInteractive',\n",
              "                                                    [key], {});\n",
              "        if (!dataTable) return;\n",
              "\n",
              "        const docLinkHtml = 'Like what you see? Visit the ' +\n",
              "          '<a target=\"_blank\" href=https://colab.research.google.com/notebooks/data_table.ipynb>data table notebook</a>'\n",
              "          + ' to learn more about interactive tables.';\n",
              "        element.innerHTML = '';\n",
              "        dataTable['output_type'] = 'display_data';\n",
              "        await google.colab.output.renderOutput(dataTable, element);\n",
              "        const docLink = document.createElement('div');\n",
              "        docLink.innerHTML = docLinkHtml;\n",
              "        element.appendChild(docLink);\n",
              "      }\n",
              "    </script>\n",
              "  </div>\n",
              "\n",
              "\n",
              "<div id=\"df-a727781c-1e0c-40df-9fbc-387c495b70a8\">\n",
              "  <button class=\"colab-df-quickchart\" onclick=\"quickchart('df-a727781c-1e0c-40df-9fbc-387c495b70a8')\"\n",
              "            title=\"Suggest charts.\"\n",
              "            style=\"display:none;\">\n",
              "\n",
              "<svg xmlns=\"http://www.w3.org/2000/svg\" height=\"24px\"viewBox=\"0 0 24 24\"\n",
              "     width=\"24px\">\n",
              "    <g>\n",
              "        <path d=\"M19 3H5c-1.1 0-2 .9-2 2v14c0 1.1.9 2 2 2h14c1.1 0 2-.9 2-2V5c0-1.1-.9-2-2-2zM9 17H7v-7h2v7zm4 0h-2V7h2v10zm4 0h-2v-4h2v4z\"/>\n",
              "    </g>\n",
              "</svg>\n",
              "  </button>\n",
              "\n",
              "<style>\n",
              "  .colab-df-quickchart {\n",
              "      --bg-color: #E8F0FE;\n",
              "      --fill-color: #1967D2;\n",
              "      --hover-bg-color: #E2EBFA;\n",
              "      --hover-fill-color: #174EA6;\n",
              "      --disabled-fill-color: #AAA;\n",
              "      --disabled-bg-color: #DDD;\n",
              "  }\n",
              "\n",
              "  [theme=dark] .colab-df-quickchart {\n",
              "      --bg-color: #3B4455;\n",
              "      --fill-color: #D2E3FC;\n",
              "      --hover-bg-color: #434B5C;\n",
              "      --hover-fill-color: #FFFFFF;\n",
              "      --disabled-bg-color: #3B4455;\n",
              "      --disabled-fill-color: #666;\n",
              "  }\n",
              "\n",
              "  .colab-df-quickchart {\n",
              "    background-color: var(--bg-color);\n",
              "    border: none;\n",
              "    border-radius: 50%;\n",
              "    cursor: pointer;\n",
              "    display: none;\n",
              "    fill: var(--fill-color);\n",
              "    height: 32px;\n",
              "    padding: 0;\n",
              "    width: 32px;\n",
              "  }\n",
              "\n",
              "  .colab-df-quickchart:hover {\n",
              "    background-color: var(--hover-bg-color);\n",
              "    box-shadow: 0 1px 2px rgba(60, 64, 67, 0.3), 0 1px 3px 1px rgba(60, 64, 67, 0.15);\n",
              "    fill: var(--button-hover-fill-color);\n",
              "  }\n",
              "\n",
              "  .colab-df-quickchart-complete:disabled,\n",
              "  .colab-df-quickchart-complete:disabled:hover {\n",
              "    background-color: var(--disabled-bg-color);\n",
              "    fill: var(--disabled-fill-color);\n",
              "    box-shadow: none;\n",
              "  }\n",
              "\n",
              "  .colab-df-spinner {\n",
              "    border: 2px solid var(--fill-color);\n",
              "    border-color: transparent;\n",
              "    border-bottom-color: var(--fill-color);\n",
              "    animation:\n",
              "      spin 1s steps(1) infinite;\n",
              "  }\n",
              "\n",
              "  @keyframes spin {\n",
              "    0% {\n",
              "      border-color: transparent;\n",
              "      border-bottom-color: var(--fill-color);\n",
              "      border-left-color: var(--fill-color);\n",
              "    }\n",
              "    20% {\n",
              "      border-color: transparent;\n",
              "      border-left-color: var(--fill-color);\n",
              "      border-top-color: var(--fill-color);\n",
              "    }\n",
              "    30% {\n",
              "      border-color: transparent;\n",
              "      border-left-color: var(--fill-color);\n",
              "      border-top-color: var(--fill-color);\n",
              "      border-right-color: var(--fill-color);\n",
              "    }\n",
              "    40% {\n",
              "      border-color: transparent;\n",
              "      border-right-color: var(--fill-color);\n",
              "      border-top-color: var(--fill-color);\n",
              "    }\n",
              "    60% {\n",
              "      border-color: transparent;\n",
              "      border-right-color: var(--fill-color);\n",
              "    }\n",
              "    80% {\n",
              "      border-color: transparent;\n",
              "      border-right-color: var(--fill-color);\n",
              "      border-bottom-color: var(--fill-color);\n",
              "    }\n",
              "    90% {\n",
              "      border-color: transparent;\n",
              "      border-bottom-color: var(--fill-color);\n",
              "    }\n",
              "  }\n",
              "</style>\n",
              "\n",
              "  <script>\n",
              "    async function quickchart(key) {\n",
              "      const quickchartButtonEl =\n",
              "        document.querySelector('#' + key + ' button');\n",
              "      quickchartButtonEl.disabled = true;  // To prevent multiple clicks.\n",
              "      quickchartButtonEl.classList.add('colab-df-spinner');\n",
              "      try {\n",
              "        const charts = await google.colab.kernel.invokeFunction(\n",
              "            'suggestCharts', [key], {});\n",
              "      } catch (error) {\n",
              "        console.error('Error during call to suggestCharts:', error);\n",
              "      }\n",
              "      quickchartButtonEl.classList.remove('colab-df-spinner');\n",
              "      quickchartButtonEl.classList.add('colab-df-quickchart-complete');\n",
              "    }\n",
              "    (() => {\n",
              "      let quickchartButtonEl =\n",
              "        document.querySelector('#df-a727781c-1e0c-40df-9fbc-387c495b70a8 button');\n",
              "      quickchartButtonEl.style.display =\n",
              "        google.colab.kernel.accessAllowed ? 'block' : 'none';\n",
              "    })();\n",
              "  </script>\n",
              "</div>\n",
              "    </div>\n",
              "  </div>\n"
            ]
          },
          "metadata": {},
          "execution_count": 103
        }
      ]
    },
    {
      "cell_type": "markdown",
      "source": [
        "Pandas to Pyspark\n"
      ],
      "metadata": {
        "id": "D4pKWnnLSsiH"
      }
    },
    {
      "cell_type": "code",
      "source": [
        "from pyspark.sql import SQLContext"
      ],
      "metadata": {
        "id": "X6figpUsSWAL"
      },
      "execution_count": 104,
      "outputs": []
    },
    {
      "cell_type": "code",
      "source": [
        "sqlCtx = SQLContext(spark)\n",
        "df = sqlCtx.createDataFrame(df).show()"
      ],
      "metadata": {
        "colab": {
          "base_uri": "https://localhost:8080/"
        },
        "id": "KmFRPSP1S15B",
        "outputId": "6f3c23b7-afd3-4b98-ce06-b66ab8f10284"
      },
      "execution_count": 106,
      "outputs": [
        {
          "output_type": "stream",
          "name": "stderr",
          "text": [
            "/usr/local/lib/python3.10/dist-packages/pyspark/sql/context.py:112: FutureWarning: Deprecated in 3.0.0. Use SparkSession.builder.getOrCreate() instead.\n",
            "  warnings.warn(\n"
          ]
        },
        {
          "output_type": "stream",
          "name": "stdout",
          "text": [
            "+-------------+---------------+-----+------+---+-----+\n",
            "|employee_name|     department|state|salary|age|bonus|\n",
            "+-------------+---------------+-----+------+---+-----+\n",
            "|        James|          Sales|   NY| 90000| 34|10000|\n",
            "|         Emma|      Marketing|   CA| 85000| 29| 8000|\n",
            "|      Michael|    Engineering|   TX| 95000| 40|12000|\n",
            "|       Sophia|Human Resources|   IL| 80000| 31| 9000|\n",
            "|      William|        Finance|   NY| 92000| 36|11000|\n",
            "|       Olivia|          Sales|   CA| 88000| 30| 9500|\n",
            "|       Daniel|      Marketing|   TX| 86000| 32| 8500|\n",
            "|          Ava|    Engineering|   CA| 98000| 38|13000|\n",
            "|      Matthew|Human Resources|   NY| 82000| 27| 7500|\n",
            "|        Emily|        Finance|   IL| 91000| 35|10500|\n",
            "+-------------+---------------+-----+------+---+-----+\n",
            "\n"
          ]
        }
      ]
    },
    {
      "cell_type": "markdown",
      "source": [
        "Removing Null and none values"
      ],
      "metadata": {
        "id": "uCku9xnITW3a"
      }
    },
    {
      "cell_type": "code",
      "source": [
        "df.show()"
      ],
      "metadata": {
        "colab": {
          "base_uri": "https://localhost:8080/"
        },
        "id": "E3vas4l1TSzt",
        "outputId": "fff0b52e-239d-404d-a5a3-fede83214d4a"
      },
      "execution_count": 112,
      "outputs": [
        {
          "output_type": "stream",
          "name": "stdout",
          "text": [
            "+-------------+---------------+-----+------+---+-----+\n",
            "|employee_name|     department|state|salary|age|bonus|\n",
            "+-------------+---------------+-----+------+---+-----+\n",
            "|        James|          Sales|   NY| 90000| 34|10000|\n",
            "|         Emma|      Marketing|   CA| 85000| 29| 8000|\n",
            "|      Michael|    Engineering|   TX| 95000| 40|12000|\n",
            "|       Sophia|Human Resources|   IL| 80000| 31| 9000|\n",
            "|      William|        Finance|   NY| 92000| 36|11000|\n",
            "|       Olivia|          Sales|   CA| 88000| 30| 9500|\n",
            "|       Daniel|      Marketing|   TX| 86000| 32| 8500|\n",
            "|          Ava|    Engineering|   CA| 98000| 38|13000|\n",
            "|      Matthew|Human Resources|   NY| 82000| 27| 7500|\n",
            "|        Emily|        Finance|   IL| 91000| 35|10500|\n",
            "|             |    Engineering|   CA| 93000| 33|12500|\n",
            "|         Liam|           null|   TX| 89000| 37|10000|\n",
            "|       Oliver|          Sales|     | 86000| 28| 9000|\n",
            "|       Harper|        Finance|   IL|  null| 29| 9500|\n",
            "+-------------+---------------+-----+------+---+-----+\n",
            "\n"
          ]
        }
      ]
    },
    {
      "cell_type": "code",
      "source": [
        "df.filter(df.department.isNotNull()).show()"
      ],
      "metadata": {
        "colab": {
          "base_uri": "https://localhost:8080/"
        },
        "id": "g3YR4i07T-g4",
        "outputId": "7b34d936-c881-42d0-a5a3-0673e5e5aff5"
      },
      "execution_count": 114,
      "outputs": [
        {
          "output_type": "stream",
          "name": "stdout",
          "text": [
            "+-------------+---------------+-----+------+---+-----+\n",
            "|employee_name|     department|state|salary|age|bonus|\n",
            "+-------------+---------------+-----+------+---+-----+\n",
            "|        James|          Sales|   NY| 90000| 34|10000|\n",
            "|         Emma|      Marketing|   CA| 85000| 29| 8000|\n",
            "|      Michael|    Engineering|   TX| 95000| 40|12000|\n",
            "|       Sophia|Human Resources|   IL| 80000| 31| 9000|\n",
            "|      William|        Finance|   NY| 92000| 36|11000|\n",
            "|       Olivia|          Sales|   CA| 88000| 30| 9500|\n",
            "|       Daniel|      Marketing|   TX| 86000| 32| 8500|\n",
            "|          Ava|    Engineering|   CA| 98000| 38|13000|\n",
            "|      Matthew|Human Resources|   NY| 82000| 27| 7500|\n",
            "|        Emily|        Finance|   IL| 91000| 35|10500|\n",
            "|             |    Engineering|   CA| 93000| 33|12500|\n",
            "|       Oliver|          Sales|     | 86000| 28| 9000|\n",
            "|       Harper|        Finance|   IL|  null| 29| 9500|\n",
            "+-------------+---------------+-----+------+---+-----+\n",
            "\n"
          ]
        }
      ]
    },
    {
      "cell_type": "code",
      "source": [],
      "metadata": {
        "id": "RGviprC2UT1x"
      },
      "execution_count": null,
      "outputs": []
    }
  ]
}